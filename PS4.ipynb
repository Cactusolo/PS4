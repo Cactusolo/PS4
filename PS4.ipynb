{
 "cells": [
  {
   "cell_type": "markdown",
   "metadata": {},
   "source": [
    "# Problem Set 4"
   ]
  },
  {
   "cell_type": "markdown",
   "metadata": {},
   "source": [
    "Find a dataset that is currently in a table that you think could be turned into a multi-table database. This can be any kind of data that interests you.\n",
    "\n",
    "1) Describe the data. Write a metadata document that describes the source of the data, what the data are, what each column is, etc. (4 pts.)\n",
    "\n",
    " **Please see \"contact_info.md\" for metadata**\n",
    "\n",
    "2) Normalize the data. Write descriptions (words, drawings, or tables are fine--not code at this point) of the tables you could use to normalize these data. Describe why you chose the normalize the data in this manner. Include the column names, data types for each column, primary and foreign keys you would use. (8pts.)\n",
    "\n",
    "**Normalize the data is good for downstring analyses. For examples, some time your data are generated from different source, and potneially these data could have different ways of rounding, different units, or empty vulaes in different cells.**\n",
    "\n",
    "**I ususally try to make sure each column has its own data type, and remove the missing values.**\n",
    "\n",
    "**I'm going to create two tables**\n",
    "\n",
    " The first table called \"Contact_phone\", including ID (as primary keys), Name, Phone_No, and Fax_No, and data types are integer, string, string and string, respectively. I'll use \"Name\" as foreign keys\n",
    "  The second table called \"City\", including ID (as primary keys), Name, and City; the data types are integer, string, and string, respectively. I'll use \"ID\" as primary keys, and \"Name\" as foreign keys\n",
    "\n",
    " \n",
    "3) Either directly in sqlite or in Python with SQLAlchemy, write the code needed to define the tables above. (6pts.)\n",
    "\n",
    " see below\n",
    "\n",
    "4) Write the code to load the data into the database. (2pts) Note this is only 2 points! Don't spend a ton of time on this. If it turns into a headache, don't worry about it.\n",
    "\n",
    "  see below\n",
    "\n",
    "Extra Credit: Find another dataset, briefly describe the dataset and columns. Briefly describe the tables you would use and how you would normalize these data. (2pts.)\n",
    "    \n",
    "# Data used is \"Contact_Info.csv\""
   ]
  },
  {
   "cell_type": "markdown",
   "metadata": {},
   "source": [
    "# Create database with 2 tables"
   ]
  },
  {
   "cell_type": "code",
   "execution_count": 55,
   "metadata": {},
   "outputs": [],
   "source": [
    "from sqlalchemy import create_engine\n",
    "from sqlalchemy import Table, Column, Integer, String, MetaData, ForeignKey\n",
    "from sqlalchemy import DateTime, Boolean\n",
    "from sqlalchemy import exists\n",
    "from sqlalchemy import sql, select, join, desc\n",
    "\n",
    "\n",
    "# Create a sqlite database \n",
    "engine = create_engine('sqlite:///Contact_Info.sqlite')\n",
    "\n",
    "metadata=MetaData(engine)\n",
    "\n",
    "# Try to load Contact_phone info from database, if not there, create it.\n",
    "try:\n",
    "    Contact_phone=Table('Contact_phone', metadata, autoload=True)\n",
    "except:\n",
    "    Contact_phone = Table ('Contact_phone', metadata,\n",
    "                Column('ID', Integer, autoincrement=True, primary_key=True),\n",
    "                Column('Name', String),\n",
    "                Column('Phone_No', String),\n",
    "                Column('Fax_No', String)\n",
    "               )\n",
    "\n",
    "# Same for City table.\n",
    "try:\n",
    "    City=Table('City', metadata, autoload=True)\n",
    "except:\n",
    "    City = Table ('City', metadata,\n",
    "                 #Column('ID', Integer, autoincrement=True, primary_key=True),\n",
    "                 Column('Name', String, ForeignKey('Contact_phone.Name')),\n",
    "                 Column('City', String),\n",
    "                )\n",
    "                 \n",
    "                 \n",
    "metadata.create_all(engine)"
   ]
  },
  {
   "cell_type": "markdown",
   "metadata": {},
   "source": [
    "# Add data to sqlite database"
   ]
  },
  {
   "cell_type": "code",
   "execution_count": 56,
   "metadata": {},
   "outputs": [
    {
     "name": "stdout",
     "output_type": "stream",
     "text": [
      "Pittsburgh\n",
      "Baltimore\n",
      "Houston\n",
      "Suide\n",
      "NA\n",
      "Gainesville\n"
     ]
    }
   ],
   "source": [
    "import csv\n",
    "\n",
    "info = open(\"Contact_Info.csv\")\n",
    "\n",
    "\n",
    "reader = csv.DictReader(info)\n",
    "\n",
    "City_dict={}\n",
    "\n",
    "# Read through the file and make a dictionary for Name.\n",
    "# This gets a unique list of names.\n",
    "for Line in reader:\n",
    "    #print(Line)\n",
    "    if Line['Name'] not in City_dict:\n",
    "        City_dict[Line['Name']]=[Line['Name'], Line['City']]\n",
    "\n",
    "#print(City_dict)\n",
    "for key, value in City_dict.items(): \n",
    "    print(value[1])"
   ]
  },
  {
   "cell_type": "code",
   "execution_count": 57,
   "metadata": {},
   "outputs": [],
   "source": [
    "# Add the City_dict and people's name to the City table\n",
    "\n",
    "conn = engine.connect()\n",
    "\n",
    "\n",
    "def insert_city(name, city):\n",
    "    ins=City.insert().values(Name=name,\n",
    "                                 City=city)\n",
    "    \n",
    "    result = conn.execute(ins)\n",
    "\n",
    "for key, value in City_dict.items(): \n",
    "    insert_city(key, value[1])\n"
   ]
  },
  {
   "cell_type": "code",
   "execution_count": 58,
   "metadata": {},
   "outputs": [
    {
     "name": "stdout",
     "output_type": "stream",
     "text": [
      "{'Joel Garner': ['Joel Garner', 'Pittsburgh'], 'Clive Lloyd': ['Clive Lloyd', 'Baltimore'], 'Gordon Greenidge': ['Gordon Greenidge', 'Houston'], 'NA': ['NA', 'Suide'], 'Alex Sun': ['Alex Sun', 'NA'], 'Ziyu Fu': ['Ziyu Fu', 'Gainesville']}\n"
     ]
    }
   ],
   "source": [
    "print(City_dict)"
   ]
  },
  {
   "cell_type": "code",
   "execution_count": 59,
   "metadata": {},
   "outputs": [
    {
     "name": "stdout",
     "output_type": "stream",
     "text": [
      "('Pittsburgh',)\n",
      "('Baltimore',)\n",
      "('Houston',)\n",
      "('Suide',)\n",
      "('NA',)\n",
      "('Gainesville',)\n"
     ]
    }
   ],
   "source": [
    "query=select([City.c.City])\n",
    "             \n",
    "result = conn.execute(query)\n",
    "for row in result:\n",
    "    print(row)"
   ]
  },
  {
   "cell_type": "code",
   "execution_count": 60,
   "metadata": {},
   "outputs": [],
   "source": [
    "import pandas as pd\n",
    "\n",
    "info.close()\n",
    "info=open(\"Contact_Info.csv\")\n",
    "reader = csv.DictReader(info)\n",
    "for Line in reader:\n",
    "    try:\n",
    "        Name = str(Line['Name'])\n",
    "    except:\n",
    "        skip\n",
    "    ins=Contact_phone.insert().values(ID=Line['ID'],\n",
    "                                Name = Line['Name'],\n",
    "                                Phone_No = Line['Phone_No'],\n",
    "                                Fax_No = Line['Fax_No'],\n",
    "                                )\n",
    "    result = conn.execute(ins)\n",
    "    "
   ]
  },
  {
   "cell_type": "code",
   "execution_count": 61,
   "metadata": {},
   "outputs": [
    {
     "name": "stdout",
     "output_type": "stream",
     "text": [
      "('Joel Garner', '412-212-5421')\n",
      "('Alex Sun', '352-328-0945')\n",
      "('NA', '352-284-0928')\n",
      "('Clive Lloyd', '410-306-1420')\n",
      "('Gordon Greenidge', '281-564-6720')\n",
      "('Ziyu Fu', 'NA')\n"
     ]
    }
   ],
   "source": [
    "from sqlalchemy import select\n",
    "\n",
    "query=select([Contact_phone.c.Name, Contact_phone.c.Phone_No])\n",
    "             \n",
    "result = conn.execute(query)\n",
    "for row in result:\n",
    "    print(row)"
   ]
  },
  {
   "cell_type": "markdown",
   "metadata": {},
   "source": [
    "# Join\n",
    "jion the two table that only containing the infomation that person's name, phone number, fax number, and which city he live in."
   ]
  },
  {
   "cell_type": "code",
   "execution_count": 63,
   "metadata": {},
   "outputs": [],
   "source": [
    "q = select([City.c.City, Contact_phone.c.Phone_No, Contact_phone.c.Fax_No]).where(City.c.Name==Contact_phone.c.Name)\n"
   ]
  },
  {
   "cell_type": "code",
   "execution_count": 64,
   "metadata": {},
   "outputs": [
    {
     "name": "stdout",
     "output_type": "stream",
     "text": [
      "('Pittsburgh', '412-212-5421', '412-212-5400')\n",
      "('Baltimore', '410-306-1420', '410-306-5400')\n",
      "('Houston', '281-564-6720', '281-511-6600')\n",
      "('Suide', '352-284-0928', '410-306-1420')\n",
      "('NA', '352-328-0945', '281-564-6720')\n",
      "('Gainesville', 'NA', 'xx-777-8830')\n"
     ]
    }
   ],
   "source": [
    "result3 = conn.execute(q)\n",
    "for row in result3:\n",
    "    print(row)"
   ]
  },
  {
   "cell_type": "code",
   "execution_count": null,
   "metadata": {},
   "outputs": [],
   "source": []
  }
 ],
 "metadata": {
  "kernelspec": {
   "display_name": "Python 3",
   "language": "python",
   "name": "python3"
  },
  "language_info": {
   "codemirror_mode": {
    "name": "ipython",
    "version": 3
   },
   "file_extension": ".py",
   "mimetype": "text/x-python",
   "name": "python",
   "nbconvert_exporter": "python",
   "pygments_lexer": "ipython3",
   "version": "3.6.5"
  }
 },
 "nbformat": 4,
 "nbformat_minor": 2
}
